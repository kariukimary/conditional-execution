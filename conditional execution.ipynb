{
 "cells": [
  {
   "cell_type": "markdown",
   "id": "6d3e3436",
   "metadata": {},
   "source": [
    "# chapter 3: Exercise"
   ]
  },
  {
   "cell_type": "markdown",
   "id": "d4c7effc",
   "metadata": {},
   "source": [
    "# question 1\n",
    "Rewrite your pay computation to give the employee 1.5 times the hourly rate for hours worked above 40 hours."
   ]
  },
  {
   "cell_type": "code",
   "execution_count": 4,
   "id": "81bd1383",
   "metadata": {},
   "outputs": [
    {
     "name": "stdout",
     "output_type": "stream",
     "text": [
      "enter hours40\n",
      "enter rate per hour1.5\n",
      "pay 60.0\n"
     ]
    }
   ],
   "source": [
    "hours=int(input(\"enter hours\"))\n",
    "rate=float(input(\"enter rate per hour\"))\n",
    "print(\"pay\",rate*hours)"
   ]
  },
  {
   "cell_type": "markdown",
   "id": "5802b49e",
   "metadata": {},
   "source": [
    "# question 2\n",
    "Rewrite your pay program using try and except so that your program handles non-numeric input gracefully by printing a message\n",
    "and exiting the program. The following shows two executions of the program:"
   ]
  },
  {
   "cell_type": "code",
   "execution_count": 1,
   "id": "2f971fe8",
   "metadata": {},
   "outputs": [
    {
     "name": "stdout",
     "output_type": "stream",
     "text": [
      "enter number of hours34\n",
      "enter rate per hournine\n",
      "please enter numeric input\n"
     ]
    }
   ],
   "source": [
    "try:\n",
    "    hour=int(input(\"enter number of hours\"))\n",
    "    rate=float(input(\"enter rate per hour\"))\n",
    "    print(\"work done\", hour*rate)\n",
    "except:\n",
    "    print(\"please enter numeric input\")"
   ]
  },
  {
   "cell_type": "markdown",
   "id": "69a2109f",
   "metadata": {},
   "source": [
    "# question 3\n",
    "Write a program to prompt for a score between 0.0 and 1.0. If the score is out of range, print an error message. If the score is\n",
    "between 0.0 and 1.0, print a grade using the following table:\n",
    "   \n",
    "Score Grade\n",
    ">= 0.9 A\n",
    "\n",
    ">= 0.8 B\n",
    "\n",
    ">= 0.7 C\n",
    "\n",
    ">= 0.6 D\n",
    "\n",
    "< 0.6 F"
   ]
  },
  {
   "cell_type": "code",
   "execution_count": 11,
   "id": "d10660c1",
   "metadata": {},
   "outputs": [
    {
     "name": "stdout",
     "output_type": "stream",
     "text": [
      "enter score0.567\n",
      "grade E\n"
     ]
    }
   ],
   "source": [
    "#answer:\n",
    "score=float(input(\"enter score\"))\n",
    "if score>=0.9:\n",
    "    print(\"grade A\")\n",
    "elif score>=0.8:\n",
    "    print(\"grade B\")\n",
    "elif  score>=0.7:\n",
    "    print(\"grade C\")\n",
    "elif score >=0.6:\n",
    "    print(\"grade D\")\n",
    "else:\n",
    "    print(\"grade E\")"
   ]
  },
  {
   "cell_type": "code",
   "execution_count": null,
   "id": "6fe4c58d",
   "metadata": {},
   "outputs": [],
   "source": []
  },
  {
   "cell_type": "code",
   "execution_count": null,
   "id": "52c0af34",
   "metadata": {},
   "outputs": [],
   "source": []
  },
  {
   "cell_type": "code",
   "execution_count": null,
   "id": "a9ddda20",
   "metadata": {},
   "outputs": [],
   "source": []
  }
 ],
 "metadata": {
  "kernelspec": {
   "display_name": "Python 3 (ipykernel)",
   "language": "python",
   "name": "python3"
  },
  "language_info": {
   "codemirror_mode": {
    "name": "ipython",
    "version": 3
   },
   "file_extension": ".py",
   "mimetype": "text/x-python",
   "name": "python",
   "nbconvert_exporter": "python",
   "pygments_lexer": "ipython3",
   "version": "3.9.7"
  }
 },
 "nbformat": 4,
 "nbformat_minor": 5
}
